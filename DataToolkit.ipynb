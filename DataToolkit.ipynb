{
  "nbformat": 4,
  "nbformat_minor": 0,
  "metadata": {
    "colab": {
      "provenance": []
    },
    "kernelspec": {
      "name": "python3",
      "display_name": "Python 3"
    },
    "language_info": {
      "name": "python"
    }
  },
  "cells": [
    {
      "cell_type": "markdown",
      "source": [
        "#**Data Toolkit Assignment**"
      ],
      "metadata": {
        "id": "FEEEf9QFXZxH"
      }
    },
    {
      "cell_type": "markdown",
      "source": [
        "#Theory Question"
      ],
      "metadata": {
        "id": "Ygc0nFOBXfxr"
      }
    },
    {
      "cell_type": "markdown",
      "source": [
        "1.What is NumPy, and why is it widely used in Python?"
      ],
      "metadata": {
        "id": "yCO4ZUwvXxua"
      }
    },
    {
      "cell_type": "markdown",
      "source": [
        "Ans. NumPy (short for Numerical Python) is an open-source Python library that provides support for large, multi-dimensional arrays and matrices, along with a collection of mathematical functions to operate on these arrays efficiently.\n",
        "\n",
        "It is one of the core libraries for scientific computing in Python and serves as the foundation for many other libraries such as Pandas, SciPy, scikit-learn, and TensorFlow"
      ],
      "metadata": {
        "id": "pCF0PfRJavjf"
      }
    },
    {
      "cell_type": "markdown",
      "source": [
        "2.How does broadcasting work in NumPy?"
      ],
      "metadata": {
        "id": "-V4pYJedX2uk"
      }
    },
    {
      "cell_type": "markdown",
      "source": [
        "Ans. Broadcasting in NumPy is a powerful feature that allows arithmetic operations between arrays of different shapes and sizes, without needing to explicitly reshape or copy data.\n",
        "\n",
        "Instead of throwing an error when array shapes differ, NumPy “broadcasts” the smaller array across the larger one so that they have compatible shapes."
      ],
      "metadata": {
        "id": "7dAxX8xZa6j6"
      }
    },
    {
      "cell_type": "markdown",
      "source": [
        "3.What is a Pandas DataFrame?"
      ],
      "metadata": {
        "id": "ADWW8oYUX_wo"
      }
    },
    {
      "cell_type": "markdown",
      "source": [
        "Ans.A Pandas DataFrame is a 2-dimensional, tabular data structure in Python's pandas library. It is similar to a spreadsheet, SQL table, or an Excel sheet in structure — with rows and columns, where each column can have a different data type (e.g., int, float, string).\n",
        "\n",
        "It is one of the most powerful and widely used tools for data analysis and manipulation in Python."
      ],
      "metadata": {
        "id": "rLujVMHsbC44"
      }
    },
    {
      "cell_type": "markdown",
      "source": [
        "4.Explain the use of the groupby() method in Pandas."
      ],
      "metadata": {
        "id": "dYKcLVVhYG2C"
      }
    },
    {
      "cell_type": "markdown",
      "source": [
        "Ans. The groupby() method in Pandas is used to split data into groups based on the values in one or more columns, and then apply a function (like sum, mean, count, etc.) to each group.\n",
        "\n",
        "* It's based on the \"Split-Apply-Combine\" strategy:\n",
        "\n",
        " * Split the data into groups\n",
        "\n",
        " * Apply a function to each group\n",
        "\n",
        " * Combine the results into a new DataFrame or Series\n",
        "\n"
      ],
      "metadata": {
        "id": "DMKGQFAzbL9y"
      }
    },
    {
      "cell_type": "markdown",
      "source": [
        "5.Why is Seaborn preferred for statistical visualizations?"
      ],
      "metadata": {
        "id": "bCluvTVcYKTC"
      }
    },
    {
      "cell_type": "markdown",
      "source": [
        "Ans. Seaborn is a Python data visualization library built on top of matplotlib. It is widely preferred for statistical visualizations because it offers:\n",
        "1. High-Level Interface for Complex Plots\n",
        "* Seaborn simplifies the creation of informative and attractive statistical graphics with very little code.\n",
        "2. Built-in Statistical Plots\n",
        "* Seaborn makes it easy to create plots commonly used in statistical analysis:\n",
        "* Distribution plots (histplot, kdeplot)\n",
        "* Box plots, violin plots, swarm plots for comparing distributions\n",
        "* Heatmaps for correlation matrices\n",
        "* Pair plots to see relationships between all numeric variables\n",
        "* Regression plots (regplot, lmplot) with confidence intervals\n",
        "3. Automatic Aggregation and Bootstrapping\n",
        "* Seaborn can automatically calculate means, medians, standard errors, and display them with confidence intervals (e.g., in barplot, pointplot).\n",
        "* It handles grouping and statistical estimation internally, saving time.\n",
        "4. Integrated with Pandas\n",
        "* Works seamlessly with Pandas DataFrames.\n",
        "\n",
        "* Column names can be passed directly, no need to extract data manually.\n",
        "5. Beautiful, Publication-Quality Aesthetics\n",
        "* Seaborn comes with predefined color palettes and themes.\n",
        "* It automatically styles plots to look clean and professional with minimal effort."
      ],
      "metadata": {
        "id": "t_k6UDLLbgZt"
      }
    },
    {
      "cell_type": "markdown",
      "source": [
        "6.What are the differences between NumPy arrays and Python lists?"
      ],
      "metadata": {
        "id": "CN8dR_9eYYWF"
      }
    },
    {
      "cell_type": "markdown",
      "source": [
        "Ans. 1. Data Structure Nature\n",
        "* Python List:\n",
        "A built-in data structure in Python that can store elements of different data types such as integers, strings, or even other lists. It is dynamic and flexible but not optimized for numerical operations.\n",
        "* NumPy Array:\n",
        "A data structure provided by the NumPy library, specifically designed for efficient numerical and scientific computing. It stores homogeneous data types, usually numbers, in a contiguous block of memory.\n",
        "\n",
        "2. Homogeneity of Elements\n",
        "* Python List:\n",
        "Elements can be of different data types. For example, [1, \"two\", 3.0] is valid.\n",
        "\n",
        "* NumPy Array:\n",
        "All elements must be of the same data type. If mixed types are inserted, they are automatically converted to a common type (e.g., integers and floats become floats).\n",
        "\n",
        "3. Memory Management\n",
        "* Python List:\n",
        "Since it stores references to objects (not actual data), it is less memory efficient. Each element is stored as a separate Python object.\n",
        "* NumPy Array:\n",
        "Stores data in a contiguous memory block using C-style arrays, which leads to better performance and memory efficiency.\n",
        "\n",
        "4. Speed and Performance\n",
        "* Python List:\n",
        "Operations like addition or multiplication require explicit iteration (loops). Hence, it is slower for large-scale data operations.\n",
        "\n",
        "* NumPy Array:\n",
        "Supports vectorized operations, meaning computations are applied on the entire array without explicit loops, making it much faster than Python lists.\n",
        "\n",
        "5. Functionality and Operations\n",
        "* Python List:\n",
        "Limited built-in functions for mathematical or statistical operations.\n",
        "\n",
        "* NumPy Array:\n",
        "Comes with rich functionality like broadcasting, slicing, reshaping, statistical functions, linear algebra, etc"
      ],
      "metadata": {
        "id": "3bL6Ca-Pvmzh"
      }
    },
    {
      "cell_type": "markdown",
      "source": [
        "7.What is a heatmap, and when should it be used?"
      ],
      "metadata": {
        "id": "VgzXFGjIYcP4"
      }
    },
    {
      "cell_type": "markdown",
      "source": [
        "Ans. A heatmap is a data visualization technique that shows the magnitude of a phenomenon as color in two dimensions. The values are represented with varying intensities of colors, making it easy to identify patterns, correlations, or anomalies at a glance.\n",
        "* Typically, heatmaps display a matrix-like structure where:\n",
        "* Rows and columns represent categories or variables.\n",
        "* Colors represent numeric values (e.g., high to low, or positive to negative).\n",
        "\n",
        "Use a heatmap when you want to:\n",
        "\n",
        "1. Visualize a large amount of data compactly\n",
        "Especially helpful with matrix-style data like correlation tables or confusion matrices.\n",
        "2. Identify trends, patterns, and anomalies\n",
        "You can quickly spot clusters, gaps, or outliers based on color intensity.\n",
        "3. Display correlation between variables\n",
        "In statistics and machine learning, heatmaps are used to display correlation matrices showing how variables are related.\n",
        "4. Analyze website user behavior\n",
        "In UX/UI, heatmaps track where users click, scroll, or hover most on a webpage.\n",
        "5. Compare values across categories\n",
        "For example, comparing sales performance of different products across regions."
      ],
      "metadata": {
        "id": "RZoeOobkwBuv"
      }
    },
    {
      "cell_type": "markdown",
      "source": [
        "8.What does the term “vectorized operation” mean in NumPy?"
      ],
      "metadata": {
        "id": "fzNsirXQYhSk"
      }
    },
    {
      "cell_type": "markdown",
      "source": [
        "Ans. A vectorized operation in NumPy refers to performing operations on entire arrays (vectors, matrices, etc.) without using explicit loops. Instead of processing elements one by one, NumPy uses optimized low-level code (often in C) to apply operations in parallel, making it faster and more concise."
      ],
      "metadata": {
        "id": "72iFs_0XwZCS"
      }
    },
    {
      "cell_type": "markdown",
      "source": [
        "9.How does Matplotlib differ from Plotly?"
      ],
      "metadata": {
        "id": "m_qclLo7Ymrh"
      }
    },
    {
      "cell_type": "markdown",
      "source": [
        "Ans. Matplotlib\n",
        "* Matplotlib is a static data visualization library in Python that provides full control over every aspect of a figure. It is the foundation of Python plotting and is widely used in scientific and academic contexts.\n",
        "* Developed in the early 2000s, it mimics the functionality of MATLAB.\n",
        "* It generates static, high-quality plots (like line charts, bar charts, histograms, etc.).\n",
        "* Ideal for publications, reports, and scientific research.\n",
        "* Matplotlib focuses on precise and static visualization, where interactivity is not a core feature.\n",
        "\n",
        "Plotly\n",
        "* Plotly is a modern, interactive graphing library that enables the creation of dynamic, web-based visualizations.\n",
        "* Designed for interactivity, especially in dashboards and web applications.\n",
        "* Outputs are rendered using HTML, CSS, and JavaScript, making them highly interactive.\n",
        "* Includes features like hover tooltips, zooming, panning, and animations without extra coding.\n",
        "* Plotly is best suited for exploratory data analysis, business presentations, and interactive dashboards."
      ],
      "metadata": {
        "id": "D8ulJCy9wqbe"
      }
    },
    {
      "cell_type": "markdown",
      "source": [
        "10.What is the significance of hierarchical indexing in Pandas?"
      ],
      "metadata": {
        "id": "tngmpSINYqR8"
      }
    },
    {
      "cell_type": "markdown",
      "source": [
        "Ans. Hierarchical indexing, or MultiIndexing, is a powerful feature in Pandas that allows you to use multiple index levels (i.e., more than one index key) on an axis (row or column). This creates a multi-level structure in your DataFrame or Series, enabling complex data representation and manipulation.\n",
        "\n",
        "* Significance & Benefits of Hierarchical Indexing:\n",
        "1.Better Organization of Complex Data\n",
        "Enables the representation of higher-dimensional data in a 2D DataFrame.\n",
        "\n",
        "Ideal for grouped data, panel data, or time series with multiple variables (e.g., country and year, stock and date).\n",
        "\n",
        "2.Logical Grouping\n",
        "Makes it easy to group related rows/columns together.\n",
        "\n",
        "Useful when working with multi-category datasets (e.g., sales by region and product type).\n",
        "\n",
        "3.Advanced Data Manipulation\n",
        "Enables powerful grouping, slicing, reshaping, and aggregation operations.\n",
        "\n",
        "Functions like .groupby(), .stack(), .unstack(), and .pivot_table() leverage MultiIndex structures.\n",
        "\n",
        "4.Precise Data Selection\n",
        "Allows for multi-key lookups.\n",
        "\n",
        "You can query data using tuples of index levels (e.g., df.loc[('India', 2024)]).\n",
        "\n",
        "5.Efficient Analysis\n",
        "Helps perform multi-dimensional operations without transforming the data into arrays or nested structures.\n",
        "\n",
        "Works seamlessly with aggregation and filtering."
      ],
      "metadata": {
        "id": "pOb4PyAVxDPF"
      }
    },
    {
      "cell_type": "markdown",
      "source": [
        "11.What is the role of Seaborn’s pairplot() function?"
      ],
      "metadata": {
        "id": "MSbw8KLSYw71"
      }
    },
    {
      "cell_type": "markdown",
      "source": [
        "Ans. seaborn.pairplot() is a function in Seaborn used for visualizing pairwise relationships between numeric variables in a dataset.\n",
        "\n",
        "It automatically creates a grid of scatter plots and histograms (or KDEs), making it easy to explore patterns, correlations, and distributions in multivariate data.\n",
        "\n",
        "* Exploratory Data Analysis (EDA)\n",
        "* Pattern Recognition\n",
        "* Correlation Detection\n",
        "* Class Distribution (with hue)"
      ],
      "metadata": {
        "id": "O91H7z-OxZ3_"
      }
    },
    {
      "cell_type": "markdown",
      "source": [
        "12.What is the purpose of the describe() function in Pandas?"
      ],
      "metadata": {
        "id": "IJBRElNyY0Id"
      }
    },
    {
      "cell_type": "markdown",
      "source": [
        "Ans. The describe() function in Pandas is used to generate descriptive statistics of a DataFrame or Series. It gives a quick summary of the central tendency, dispersion, and shape of a dataset’s distribution.\n",
        "\n",
        "*  Summarize Numeric Data\n",
        "* Explore Data Quickly\n",
        "* Identify Anomalies or Outliers\n",
        "* Support Data Cleaning\n",
        "* Aid in EDA (Exploratory Data Analysis)"
      ],
      "metadata": {
        "id": "UXx4YBrwxxWf"
      }
    },
    {
      "cell_type": "markdown",
      "source": [
        "13.Why is handling missing data important in Pandas?"
      ],
      "metadata": {
        "id": "5vRLyRZCY33n"
      }
    },
    {
      "cell_type": "markdown",
      "source": [
        "Ans. Missing data refers to empty, null, or NaN values in a dataset where data was expected but not provided. In Pandas, missing values are typically represented as NaN (Not a Number) or None.\n",
        "\n",
        "* Avoid Errors in Analysis\n",
        "* Improve Model Accuracy\n",
        "* Ensure Reliable Visualizations\n",
        "* Clean, Consistent Data\n",
        "* Identify Data Quality Issues\n",
        "* Better Decision-Making"
      ],
      "metadata": {
        "id": "q4yIt1C8yNBx"
      }
    },
    {
      "cell_type": "markdown",
      "source": [
        "14.What are the benefits of using Plotly for data visualization?"
      ],
      "metadata": {
        "id": "B8aibOpQY5Zx"
      }
    },
    {
      "cell_type": "markdown",
      "source": [
        "Ans.\n",
        "1.Interactive Visualizations\n",
        "Built-in interactivity: hover tooltips, zooming, panning, filtering, and clickable legends.\n",
        "\n",
        "Great for exploratory data analysis and presentations.\n",
        "\n",
        "Unlike static libraries like Matplotlib, Plotly makes your plots interactive by default.\n",
        "\n",
        "2.Beautiful and Modern Design\n",
        "High-quality and aesthetically pleasing charts out of the box.\n",
        "\n",
        "Supports smooth transitions, animations, and layout responsiveness.\n",
        "\n",
        "Ideal for dashboards, web apps, and client-facing reports.\n",
        "\n",
        "3.Wide Range of Chart Types\n",
        "Line, bar, scatter, histogram, pie, box, heatmaps, bubble, 3D plots.\n",
        "\n",
        "Also supports advanced visuals like:\n",
        "\n",
        "Geographic maps\n",
        "\n",
        "Financial charts\n",
        "\n",
        "Sankey diagrams\n",
        "\n",
        "Treemaps and sunbursts\n",
        "\n",
        "4.Easy to Use with High-level Syntax\n",
        "Easy and intuitive syntax, especially with plotly.express.\n",
        "\n",
        "Works well with Pandas DataFrames for quick chart generation.\n",
        "\n",
        "5.Web and Dashboard Integration\n",
        "Integrates seamlessly with Dash, Plotly’s web app framework for Python.\n",
        "\n",
        "Ideal for creating interactive dashboards and web-based visual analytics tools."
      ],
      "metadata": {
        "id": "wOXpoDtfyrbB"
      }
    },
    {
      "cell_type": "markdown",
      "source": [
        "15.How does NumPy handle multidimensional arrays?"
      ],
      "metadata": {
        "id": "JBEVNHUpZCBJ"
      }
    },
    {
      "cell_type": "markdown",
      "source": [
        "Ans.\n",
        "1. Array Creation\n",
        "You can create multidimensional arrays using nested lists or NumPy functions like np.array(), np.zeros(), np.ones(), or np.random.\n",
        "\n",
        "2. Array Attributes\n",
        "Attribute\tDescription\n",
        "ndarray.ndim\tNumber of dimensions\n",
        "ndarray.shape\tTuple indicating the size of each dimension\n",
        "ndarray.size\tTotal number of elements\n",
        "ndarray.dtype\tData type of elements\n",
        "\n",
        "3. Accessing Elements (Indexing & Slicing)\n",
        "NumPy allows precise access using multiple indices:\n",
        "You can also use:\n",
        "\n",
        "  * Fancy indexing\n",
        "\n",
        "  * Boolean indexing\n",
        "\n",
        "  * Ellipsis (...) for complex selections\n",
        "\n",
        "4. Broadcasting and Vectorization\n",
        "NumPy can perform element-wise operations across dimensions without explicit loops using broadcasting.\n",
        "5. Reshaping Arrays\n",
        "NumPy can change the shape of arrays using methods like .reshape(), .ravel(), .transpose(), and .swapaxes().\n",
        "\n",
        "6. Operations on Multidimensional Arrays\n",
        "You can perform operations along specific axes using the axis argument:\n",
        "\n",
        "7. Useful Functions for Multidimensional Arrays\n",
        "Function\tPurpose\n",
        "* np.zeros((m, n))\tCreate an m×n array of zeros\n",
        "* np.ones((m, n))\tCreate an m×n array of ones\n",
        "* np.eye(n)\tIdentity matrix\n",
        "* np.random.rand(m, n)\tRandom m×n array\n",
        "* np.concatenate()\tJoin arrays along an axis\n",
        "* np.stack()\tStack arrays into a new dimension"
      ],
      "metadata": {
        "id": "FbYsrLP5zJV5"
      }
    },
    {
      "cell_type": "markdown",
      "source": [
        "16.What is the role of Bokeh in data visualization?"
      ],
      "metadata": {
        "id": "oqmrDlKKZFFB"
      }
    },
    {
      "cell_type": "markdown",
      "source": [
        "Ans.Bokeh is a powerful interactive visualization library for Python that enables the creation of dynamic, web-ready plots and dashboards directly from Python code.\n",
        "\n",
        "Its main role is to help users build interactive visualizations that can run in the browser, without needing JavaScript.\n",
        "* Interactive Visualization\n",
        "* Web-Ready Plots\n",
        "*  Dashboard Creation\n",
        "*  Real-time Data Support"
      ],
      "metadata": {
        "id": "MQ4Vktr_z1xU"
      }
    },
    {
      "cell_type": "markdown",
      "source": [
        "17.Explain the difference between apply() and map() in Pandas."
      ],
      "metadata": {
        "id": "ARBjifuXZJrC"
      }
    },
    {
      "cell_type": "markdown",
      "source": [
        "Ans. 1. map() – Element-wise Function Application on Series\n",
        "* Definition:\n",
        "The map() function is a Series method that applies a given function element by element.\n",
        "\n",
        "* Key Characteristics:\n",
        "  * Works only on Series (not DataFrames).\n",
        "  * Used for simple, element-level operations.\n",
        "  * Accepts a function, dictionary, or another Series.\n",
        "  * Often used for value mapping or data transformation in a single column.\n",
        "\n",
        "* Use Cases:\n",
        "  * Replacing values (map({'M': 'Male', 'F': 'Female'}))\n",
        "  * Applying a transformation (map(lambda x: x*2))\n",
        "\n",
        "2. apply() – Function Application on Series or DataFrame\n",
        "* Definition:\n",
        "The apply() function can be used with both Series and DataFrames. It applies a function along a specified axis (rows or columns) for DataFrames.\n",
        "\n",
        "* Key Characteristics:\n",
        "  * Works on both Series and DataFrames.\n",
        "  * Applies functions row-wise (axis=1) or column-wise (axis=0).\n",
        "  * Allows for more complex logic compared to map().\n",
        "\n",
        "* Use Cases:\n",
        "  * Aggregation or transformation of rows/columns.\n",
        "  * Computing statistics (e.g., row-wise max–min).\n",
        "  * Applying custom logic to rows/columns."
      ],
      "metadata": {
        "id": "9jRmNeWV0ZBY"
      }
    },
    {
      "cell_type": "markdown",
      "source": [
        "18.What are some advanced features of NumPy?"
      ],
      "metadata": {
        "id": "9y9b3CBpZOSr"
      }
    },
    {
      "cell_type": "markdown",
      "source": [
        "Ans. 1. Broadcasting\n",
        "* Description:\n",
        "Allows NumPy to perform arithmetic operations between arrays of different shapes by automatically expanding them to a compatible shape.\n",
        "\n",
        "2. Vectorization\n",
        "* Description:\n",
        "Replaces explicit Python loops with fast, low-level C implementations, improving performance dramatically.\n",
        "\n",
        "3. Masked Arrays\n",
        "* Description:\n",
        "Allows handling of invalid or missing data by masking certain elements of an array.\n",
        "\n",
        "4. Structured Arrays (Record Arrays)\n",
        "* Description:\n",
        "Let you store heterogeneous data (like a table with columns of different types) in a single NumPy array.\n",
        "\n",
        "5. Memory Mapping for Large Arrays\n",
        "* Description:\n",
        "Use np.memmap() to work with arrays too large to fit in memory, by mapping them to disk."
      ],
      "metadata": {
        "id": "eoXN_O5N0_oi"
      }
    },
    {
      "cell_type": "markdown",
      "source": [
        "19.How does Pandas simplify time series analysis?"
      ],
      "metadata": {
        "id": "1rGo6sZNZRw5"
      }
    },
    {
      "cell_type": "markdown",
      "source": [
        "Ans. Pandas is one of the most powerful tools in Python for handling time series data. It provides built-in functionality for date-time handling, indexing, resampling, frequency conversion, and much more — all of which greatly simplify time series analysis."
      ],
      "metadata": {
        "id": "Y0ZT6mhn1aXM"
      }
    },
    {
      "cell_type": "markdown",
      "source": [
        "20.What is the role of a pivot table in Pandas?"
      ],
      "metadata": {
        "id": "8WROEVpKZVi3"
      }
    },
    {
      "cell_type": "markdown",
      "source": [
        "Ans. A pivot table in Pandas is a powerful tool used to summarize, analyze, and restructure data. It allows you to aggregate data across multiple dimensions using one or more keys (i.e., columns), similar to pivot tables in Excel.\n",
        "\n",
        "* Summarization\n",
        "* Reorganization\n",
        "* Cross-tabulation\n",
        "* Flexible Aggregation"
      ],
      "metadata": {
        "id": "5hb4M2AJ2iju"
      }
    },
    {
      "cell_type": "markdown",
      "source": [
        "21.Why is NumPy’s array slicing faster than Python’s list slicing?"
      ],
      "metadata": {
        "id": "in5XpH2hZZFV"
      }
    },
    {
      "cell_type": "markdown",
      "source": [
        "Ans. NumPy array slicing is faster than Python list slicing because NumPy arrays are stored in contiguous blocks of memory and leverage compiled C code under the hood, while Python lists are more flexible but slower due to their object-based and dynamic structure."
      ],
      "metadata": {
        "id": "BjFU-NhH26Lr"
      }
    },
    {
      "cell_type": "markdown",
      "source": [
        "22.What are some common use cases for Seaborn?"
      ],
      "metadata": {
        "id": "TazulkVPZeIe"
      }
    },
    {
      "cell_type": "markdown",
      "source": [
        "Ans. Seaborn is a Python data visualization library built on top of Matplotlib, and it is specially designed for statistical graphics. It provides a high-level interface for creating attractive and informative plots with less code and better aesthetics.\n",
        "\n",
        "1. Exploratory Data Analysis (EDA)\n",
        "* Seaborn is ideal for quickly exploring relationships in data:\n",
        "* Detect patterns, correlations, and outliers\n",
        "* Summarize distributions\n",
        "* Visualize categorical and numerical variable interactions\n",
        "\n",
        "2. Visualizing Distributions\n",
        "* Seaborn makes it easy to analyze univariate and bivariate distributions:\n",
        "\n",
        "3. Categorical Data Visualization\n",
        "* Seaborn excels at showing comparisons across categories or groups:\n",
        "\n",
        "4. Visualizing Relationships Between Variables\n",
        "* Useful for detecting correlations, trends, and interactions:\n",
        "\n",
        "* Plot Type\tUse Case\n",
        "* scatterplot()\tTwo numerical variables\n",
        "* lineplot()\tTime series or trends\n",
        "* regplot()\tRegression fit with scatterplot\n",
        "* pairplot()\tGrid of scatterplots and histograms\n",
        "\n",
        "5. Heatmaps and Correlation Matrices\n",
        "* Seaborn makes it easy to display matrices visually:\n",
        ">Great for:\n",
        "* Finding multicollinearity\n",
        "* Analyzing similarity in features\n",
        "* Viewing confusion matrices\n",
        "\n",
        "6. Time Series Visualization\n",
        "* Even though not a core strength, Seaborn supports:\n",
        "* Line plots for trends over time\n",
        "* Confidence intervals on time-based data\n",
        "\n",
        "7. Multivariate Visualization\n",
        "* Use color (hue), size, style, and facet grids to break down complex data:\n",
        "* hue= to show group distinctions by color\n",
        "* FacetGrid for subplots by categories\n",
        "* lmplot() for regression across group"
      ],
      "metadata": {
        "id": "yODKbnxS3IRm"
      }
    },
    {
      "cell_type": "markdown",
      "source": [
        "#Practical Question"
      ],
      "metadata": {
        "id": "7eSklYTbZhfS"
      }
    },
    {
      "cell_type": "markdown",
      "source": [
        "1.How do you create a 2D NumPy array and calculate the sum of each row?"
      ],
      "metadata": {
        "id": "qhRAKc5jZkiR"
      }
    },
    {
      "cell_type": "code",
      "source": [
        "import numpy as np\n",
        "\n",
        "# Step 1: Create a 2D NumPy array\n",
        "array_2d = np.array([\n",
        "    [1, 2, 3],\n",
        "    [4, 5, 6],\n",
        "    [7, 8, 9]\n",
        "])\n",
        "\n",
        "# Step 2: Calculate the sum of each row\n",
        "row_sums = np.sum(array_2d, axis=1)\n",
        "\n",
        "# Display the results\n",
        "print(\"2D Array:\\n\", array_2d)\n",
        "print(\"Sum of each row:\", row_sums)\n"
      ],
      "metadata": {
        "colab": {
          "base_uri": "https://localhost:8080/"
        },
        "id": "Iq2kyq2n6jF_",
        "outputId": "ed68a8b9-f9f8-42e4-a218-b245695b4015"
      },
      "execution_count": 16,
      "outputs": [
        {
          "output_type": "stream",
          "name": "stdout",
          "text": [
            "2D Array:\n",
            " [[1 2 3]\n",
            " [4 5 6]\n",
            " [7 8 9]]\n",
            "Sum of each row: [ 6 15 24]\n"
          ]
        }
      ]
    },
    {
      "cell_type": "markdown",
      "source": [
        "2.Write a Pandas script to find the mean of a specific column in a DataFrame."
      ],
      "metadata": {
        "id": "36LVGeiZZqsB"
      }
    },
    {
      "cell_type": "code",
      "source": [
        "import pandas as pd\n",
        "\n",
        "# Sample DataFrame\n",
        "data = {\n",
        "    'Name': ['Alice', 'Bob', 'Charlie', 'David'],\n",
        "    'Score': [85, 90, 78, 92]\n",
        "}\n",
        "\n",
        "df = pd.DataFrame(data)\n",
        "\n",
        "# Calculate the mean of the 'Score' column\n",
        "mean_score = df['Score'].mean()\n",
        "\n",
        "# Display the result\n",
        "print(\"Mean Score:\", mean_score)\n"
      ],
      "metadata": {
        "colab": {
          "base_uri": "https://localhost:8080/"
        },
        "id": "y2Rzo2416bU8",
        "outputId": "e26d6dca-3c2d-49b9-cc40-5b1969305e84"
      },
      "execution_count": 15,
      "outputs": [
        {
          "output_type": "stream",
          "name": "stdout",
          "text": [
            "Mean Score: 86.25\n"
          ]
        }
      ]
    },
    {
      "cell_type": "markdown",
      "source": [
        "3.Create a scatter plot using Matplotlib."
      ],
      "metadata": {
        "id": "TsPHzk-SZuvN"
      }
    },
    {
      "cell_type": "code",
      "source": [
        "import matplotlib.pyplot as plt\n",
        "\n",
        "# Sample data\n",
        "x = [5, 7, 8, 7, 2, 17, 2, 9, 4, 11]\n",
        "y = [99, 86, 87, 88, 100, 86, 103, 87, 94, 78]\n",
        "\n",
        "# Create scatter plot\n",
        "plt.figure(figsize=(8, 5))\n",
        "plt.scatter(x, y, color='blue', marker='o', s=100, alpha=0.7)\n",
        "\n",
        "# Add title and axis labels\n",
        "plt.title('Simple Scatter Plot')\n",
        "plt.xlabel('X Values')\n",
        "plt.ylabel('Y Values')\n",
        "\n",
        "# Display the plot\n",
        "plt.grid(True)\n",
        "plt.show()\n"
      ],
      "metadata": {
        "colab": {
          "base_uri": "https://localhost:8080/",
          "height": 487
        },
        "id": "wfhbOTsL6Uhm",
        "outputId": "3124bce6-3f60-49aa-f4ca-b7a5daf7b9aa"
      },
      "execution_count": 14,
      "outputs": [
        {
          "output_type": "display_data",
          "data": {
            "text/plain": [
              "<Figure size 800x500 with 1 Axes>"
            ],
            "image/png": "[encoded data removed]"
          },
          "metadata": {}
        }
      ]
    },
    {
      "cell_type": "markdown",
      "source": [
        "4.How do you calculate the correlation matrix using Seaborn and visualize it with a heatmap?"
      ],
      "metadata": {
        "id": "zGlKjP4oZyOa"
      }
    },
    {
      "cell_type": "code",
      "source": [
        "import pandas as pd\n",
        "import seaborn as sns\n",
        "import matplotlib.pyplot as plt\n",
        "\n",
        "# Sample DataFrame\n",
        "data = {\n",
        "    'Math': [90, 85, 88, 92, 79],\n",
        "    'Science': [91, 89, 86, 95, 80],\n",
        "    'English': [75, 78, 70, 72, 68],\n",
        "    'History': [82, 80, 85, 87, 78]\n",
        "}\n",
        "\n",
        "df = pd.DataFrame(data)\n",
        "\n",
        "# Step 1: Calculate the correlation matrix\n",
        "corr_matrix = df.corr()\n",
        "\n",
        "# Step 2: Visualize the correlation matrix using a heatmap\n",
        "plt.figure(figsize=(8, 6))\n",
        "sns.heatmap(corr_matrix, annot=True, cmap='coolwarm', fmt=\".2f\", linewidths=0.5)\n",
        "\n",
        "# Add title\n",
        "plt.title(\"Correlation Matrix Heatmap\")\n",
        "plt.show()\n"
      ],
      "metadata": {
        "colab": {
          "base_uri": "https://localhost:8080/",
          "height": 545
        },
        "id": "9981mt8V6KRg",
        "outputId": "988811b9-3b69-4d55-abc8-174f3b57459a"
      },
      "execution_count": 13,
      "outputs": [
        {
          "output_type": "display_data",
          "data": {
            "text/plain": [
              "<Figure size 800x600 with 2 Axes>"
            ],
            "image/png": "[encoded data removed]"
          },
          "metadata": {}
        }
      ]
    },
    {
      "cell_type": "markdown",
      "source": [
        "5.Generate a bar plot using Plotly."
      ],
      "metadata": {
        "id": "P0TqPo35Z1Ud"
      }
    },
    {
      "cell_type": "code",
      "source": [
        "import plotly.express as px\n",
        "import pandas as pd\n",
        "\n",
        "# Sample data\n",
        "data = {\n",
        "    'Fruit': ['Apples', 'Bananas', 'Oranges', 'Grapes'],\n",
        "    'Quantity': [30, 45, 25, 40]\n",
        "}\n",
        "\n",
        "df = pd.DataFrame(data)\n",
        "\n",
        "# Create bar plot\n",
        "fig = px.bar(df, x='Fruit', y='Quantity', color='Fruit',\n",
        "             title='Fruit Sales Bar Plot')\n",
        "\n",
        "# Show the plot\n",
        "fig.show()\n"
      ],
      "metadata": {
        "colab": {
          "base_uri": "https://localhost:8080/",
          "height": 542
        },
        "id": "BUNptww16CTi",
        "outputId": "3f568905-6fa8-4953-8516-45beacc965c3"
      },
      "execution_count": 12,
      "outputs": [
        {
          "output_type": "display_data",
          "data": {
            "text/html": [
              "<html>\n",
              "<head><meta charset=\"utf-8\" /></head>\n",
              "<body>\n",
              "    <div>            <script src=\"https://cdnjs.cloudflare.com/ajax/libs/mathjax/2.7.5/MathJax.js?config=TeX-AMS-MML_SVG\"></script><script type=\"text/javascript\">if (window.MathJax && window.MathJax.Hub && window.MathJax.Hub.Config) {window.MathJax.Hub.Config({SVG: {font: \"STIX-Web\"}});}</script>                <script type=\"text/javascript\">window.PlotlyConfig = {MathJaxConfig: 'local'};</script>\n",
              "        <script charset=\"utf-8\" src=\"https://cdn.plot.ly/plotly-2.35.2.min.js\"></script>                <div id=\"7d0ff90a-7fbf-4719-9749-67fb7f400e12\" class=\"plotly-graph-div\" style=\"height:525px; width:100%;\"></div>            <script type=\"text/javascript\">                                    window.PLOTLYENV=window.PLOTLYENV || {};                                    if (document.getElementById(\"7d0ff90a-7fbf-4719-9749-67fb7f400e12\")) {                    Plotly.newPlot(                        \"7d0ff90a-7fbf-4719-9749-67fb7f400e12\",                        [{\"alignmentgroup\":\"True\",\"hovertemplate\":\"Fruit=%{x}\\u003cbr\\u003eQuantity=%{y}\\u003cextra\\u003e\\u003c\\u002fextra\\u003e\",\"legendgroup\":\"Apples\",\"marker\":{\"color\":\"#636efa\",\"pattern\":{\"shape\":\"\"}},\"name\":\"Apples\",\"offsetgroup\":\"Apples\",\"orientation\":\"v\",\"showlegend\":true,\"textposition\":\"auto\",\"x\":[\"Apples\"],\"xaxis\":\"x\",\"y\":[30],\"yaxis\":\"y\",\"type\":\"bar\"},{\"alignmentgroup\":\"True\",\"hovertemplate\":\"Fruit=%{x}\\u003cbr\\u003eQuantity=%{y}\\u003cextra\\u003e\\u003c\\u002fextra\\u003e\",\"legendgroup\":\"Bananas\",\"marker\":{\"color\":\"#EF553B\",\"pattern\":{\"shape\":\"\"}},\"name\":\"Bananas\",\"offsetgroup\":\"Bananas\",\"orientation\":\"v\",\"showlegend\":true,\"textposition\":\"auto\",\"x\":[\"Bananas\"],\"xaxis\":\"x\",\"y\":[45],\"yaxis\":\"y\",\"type\":\"bar\"},{\"alignmentgroup\":\"True\",\"hovertemplate\":\"Fruit=%{x}\\u003cbr\\u003eQuantity=%{y}\\u003cextra\\u003e\\u003c\\u002fextra\\u003e\",\"legendgroup\":\"Oranges\",\"marker\":{\"color\":\"#00cc96\",\"pattern\":{\"shape\":\"\"}},\"name\":\"Oranges\",\"offsetgroup\":\"Oranges\",\"orientation\":\"v\",\"showlegend\":true,\"textposition\":\"auto\",\"x\":[\"Oranges\"],\"xaxis\":\"x\",\"y\":[25],\"yaxis\":\"y\",\"type\":\"bar\"},{\"alignmentgroup\":\"True\",\"hovertemplate\":\"Fruit=%{x}\\u003cbr\\u003eQuantity=%{y}\\u003cextra\\u003e\\u003c\\u002fextra\\u003e\",\"legendgroup\":\"Grapes\",\"marker\":{\"color\":\"#ab63fa\",\"pattern\":{\"shape\":\"\"}},\"name\":\"Grapes\",\"offsetgroup\":\"Grapes\",\"orientation\":\"v\",\"showlegend\":true,\"textposition\":\"auto\",\"x\":[\"Grapes\"],\"xaxis\":\"x\",\"y\":[40],\"yaxis\":\"y\",\"type\":\"bar\"}],                        {\"template\":{\"data\":{\"histogram2dcontour\":[{\"type\":\"histogram2dcontour\",\"colorbar\":{\"outlinewidth\":0,\"ticks\":\"\"},\"colorscale\":[[0.0,\"#0d0887\"],[0.1111111111111111,\"#46039f\"],[0.2222222222222222,\"#7201a8\"],[0.3333333333333333,\"#9c179e\"],[0.4444444444444444,\"#bd3786\"],[0.5555555555555556,\"#d8576b\"],[0.6666666666666666,\"#ed7953\"],[0.7777777777777778,\"#fb9f3a\"],[0.8888888888888888,\"#fdca26\"],[1.0,\"#f0f921\"]]}],\"choropleth\":[{\"type\":\"choropleth\",\"colorbar\":{\"outlinewidth\":0,\"ticks\":\"\"}}],\"histogram2d\":[{\"type\":\"histogram2d\",\"colorbar\":{\"outlinewidth\":0,\"ticks\":\"\"},\"colorscale\":[[0.0,\"#0d0887\"],[0.1111111111111111,\"#46039f\"],[0.2222222222222222,\"#7201a8\"],[0.3333333333333333,\"#9c179e\"],[0.4444444444444444,\"#bd3786\"],[0.5555555555555556,\"#d8576b\"],[0.6666666666666666,\"#ed7953\"],[0.7777777777777778,\"#fb9f3a\"],[0.8888888888888888,\"#fdca26\"],[1.0,\"#f0f921\"]]}],\"heatmap\":[{\"type\":\"heatmap\",\"colorbar\":{\"outlinewidth\":0,\"ticks\":\"\"},\"colorscale\":[[0.0,\"#0d0887\"],[0.1111111111111111,\"#46039f\"],[0.2222222222222222,\"#7201a8\"],[0.3333333333333333,\"#9c179e\"],[0.4444444444444444,\"#bd3786\"],[0.5555555555555556,\"#d8576b\"],[0.6666666666666666,\"#ed7953\"],[0.7777777777777778,\"#fb9f3a\"],[0.8888888888888888,\"#fdca26\"],[1.0,\"#f0f921\"]]}],\"heatmapgl\":[{\"type\":\"heatmapgl\",\"colorbar\":{\"outlinewidth\":0,\"ticks\":\"\"},\"colorscale\":[[0.0,\"#0d0887\"],[0.1111111111111111,\"#46039f\"],[0.2222222222222222,\"#7201a8\"],[0.3333333333333333,\"#9c179e\"],[0.4444444444444444,\"#bd3786\"],[0.5555555555555556,\"#d8576b\"],[0.6666666666666666,\"#ed7953\"],[0.7777777777777778,\"#fb9f3a\"],[0.8888888888888888,\"#fdca26\"],[1.0,\"#f0f921\"]]}],\"contourcarpet\":[{\"type\":\"contourcarpet\",\"colorbar\":{\"outlinewidth\":0,\"ticks\":\"\"}}],\"contour\":[{\"type\":\"contour\",\"colorbar\":{\"outlinewidth\":0,\"ticks\":\"\"},\"colorscale\":[[0.0,\"#0d0887\"],[0.1111111111111111,\"#46039f\"],[0.2222222222222222,\"#7201a8\"],[0.3333333333333333,\"#9c179e\"],[0.4444444444444444,\"#bd3786\"],[0.5555555555555556,\"#d8576b\"],[0.6666666666666666,\"#ed7953\"],[0.7777777777777778,\"#fb9f3a\"],[0.8888888888888888,\"#fdca26\"],[1.0,\"#f0f921\"]]}],\"surface\":[{\"type\":\"surface\",\"colorbar\":{\"outlinewidth\":0,\"ticks\":\"\"},\"colorscale\":[[0.0,\"#0d0887\"],[0.1111111111111111,\"#46039f\"],[0.2222222222222222,\"#7201a8\"],[0.3333333333333333,\"#9c179e\"],[0.4444444444444444,\"#bd3786\"],[0.5555555555555556,\"#d8576b\"],[0.6666666666666666,\"#ed7953\"],[0.7777777777777778,\"#fb9f3a\"],[0.8888888888888888,\"#fdca26\"],[1.0,\"#f0f921\"]]}],\"mesh3d\":[{\"type\":\"mesh3d\",\"colorbar\":{\"outlinewidth\":0,\"ticks\":\"\"}}],\"scatter\":[{\"fillpattern\":{\"fillmode\":\"overlay\",\"size\":10,\"solidity\":0.2},\"type\":\"scatter\"}],\"parcoords\":[{\"type\":\"parcoords\",\"line\":{\"colorbar\":{\"outlinewidth\":0,\"ticks\":\"\"}}}],\"scatterpolargl\":[{\"type\":\"scatterpolargl\",\"marker\":{\"colorbar\":{\"outlinewidth\":0,\"ticks\":\"\"}}}],\"bar\":[{\"error_x\":{\"color\":\"#2a3f5f\"},\"error_y\":{\"color\":\"#2a3f5f\"},\"marker\":{\"line\":{\"color\":\"#E5ECF6\",\"width\":0.5},\"pattern\":{\"fillmode\":\"overlay\",\"size\":10,\"solidity\":0.2}},\"type\":\"bar\"}],\"scattergeo\":[{\"type\":\"scattergeo\",\"marker\":{\"colorbar\":{\"outlinewidth\":0,\"ticks\":\"\"}}}],\"scatterpolar\":[{\"type\":\"scatterpolar\",\"marker\":{\"colorbar\":{\"outlinewidth\":0,\"ticks\":\"\"}}}],\"histogram\":[{\"marker\":{\"pattern\":{\"fillmode\":\"overlay\",\"size\":10,\"solidity\":0.2}},\"type\":\"histogram\"}],\"scattergl\":[{\"type\":\"scattergl\",\"marker\":{\"colorbar\":{\"outlinewidth\":0,\"ticks\":\"\"}}}],\"scatter3d\":[{\"type\":\"scatter3d\",\"line\":{\"colorbar\":{\"outlinewidth\":0,\"ticks\":\"\"}},\"marker\":{\"colorbar\":{\"outlinewidth\":0,\"ticks\":\"\"}}}],\"scattermapbox\":[{\"type\":\"scattermapbox\",\"marker\":{\"colorbar\":{\"outlinewidth\":0,\"ticks\":\"\"}}}],\"scatterternary\":[{\"type\":\"scatterternary\",\"marker\":{\"colorbar\":{\"outlinewidth\":0,\"ticks\":\"\"}}}],\"scattercarpet\":[{\"type\":\"scattercarpet\",\"marker\":{\"colorbar\":{\"outlinewidth\":0,\"ticks\":\"\"}}}],\"carpet\":[{\"aaxis\":{\"endlinecolor\":\"#2a3f5f\",\"gridcolor\":\"white\",\"linecolor\":\"white\",\"minorgridcolor\":\"white\",\"startlinecolor\":\"#2a3f5f\"},\"baxis\":{\"endlinecolor\":\"#2a3f5f\",\"gridcolor\":\"white\",\"linecolor\":\"white\",\"minorgridcolor\":\"white\",\"startlinecolor\":\"#2a3f5f\"},\"type\":\"carpet\"}],\"table\":[{\"cells\":{\"fill\":{\"color\":\"#EBF0F8\"},\"line\":{\"color\":\"white\"}},\"header\":{\"fill\":{\"color\":\"#C8D4E3\"},\"line\":{\"color\":\"white\"}},\"type\":\"table\"}],\"barpolar\":[{\"marker\":{\"line\":{\"color\":\"#E5ECF6\",\"width\":0.5},\"pattern\":{\"fillmode\":\"overlay\",\"size\":10,\"solidity\":0.2}},\"type\":\"barpolar\"}],\"pie\":[{\"automargin\":true,\"type\":\"pie\"}]},\"layout\":{\"autotypenumbers\":\"strict\",\"colorway\":[\"#636efa\",\"#EF553B\",\"#00cc96\",\"#ab63fa\",\"#FFA15A\",\"#19d3f3\",\"#FF6692\",\"#B6E880\",\"#FF97FF\",\"#FECB52\"],\"font\":{\"color\":\"#2a3f5f\"},\"hovermode\":\"closest\",\"hoverlabel\":{\"align\":\"left\"},\"paper_bgcolor\":\"white\",\"plot_bgcolor\":\"#E5ECF6\",\"polar\":{\"bgcolor\":\"#E5ECF6\",\"angularaxis\":{\"gridcolor\":\"white\",\"linecolor\":\"white\",\"ticks\":\"\"},\"radialaxis\":{\"gridcolor\":\"white\",\"linecolor\":\"white\",\"ticks\":\"\"}},\"ternary\":{\"bgcolor\":\"#E5ECF6\",\"aaxis\":{\"gridcolor\":\"white\",\"linecolor\":\"white\",\"ticks\":\"\"},\"baxis\":{\"gridcolor\":\"white\",\"linecolor\":\"white\",\"ticks\":\"\"},\"caxis\":{\"gridcolor\":\"white\",\"linecolor\":\"white\",\"ticks\":\"\"}},\"coloraxis\":{\"colorbar\":{\"outlinewidth\":0,\"ticks\":\"\"}},\"colorscale\":{\"sequential\":[[0.0,\"#0d0887\"],[0.1111111111111111,\"#46039f\"],[0.2222222222222222,\"#7201a8\"],[0.3333333333333333,\"#9c179e\"],[0.4444444444444444,\"#bd3786\"],[0.5555555555555556,\"#d8576b\"],[0.6666666666666666,\"#ed7953\"],[0.7777777777777778,\"#fb9f3a\"],[0.8888888888888888,\"#fdca26\"],[1.0,\"#f0f921\"]],\"sequentialminus\":[[0.0,\"#0d0887\"],[0.1111111111111111,\"#46039f\"],[0.2222222222222222,\"#7201a8\"],[0.3333333333333333,\"#9c179e\"],[0.4444444444444444,\"#bd3786\"],[0.5555555555555556,\"#d8576b\"],[0.6666666666666666,\"#ed7953\"],[0.7777777777777778,\"#fb9f3a\"],[0.8888888888888888,\"#fdca26\"],[1.0,\"#f0f921\"]],\"diverging\":[[0,\"#8e0152\"],[0.1,\"#c51b7d\"],[0.2,\"#de77ae\"],[0.3,\"#f1b6da\"],[0.4,\"#fde0ef\"],[0.5,\"#f7f7f7\"],[0.6,\"#e6f5d0\"],[0.7,\"#b8e186\"],[0.8,\"#7fbc41\"],[0.9,\"#4d9221\"],[1,\"#276419\"]]},\"xaxis\":{\"gridcolor\":\"white\",\"linecolor\":\"white\",\"ticks\":\"\",\"title\":{\"standoff\":15},\"zerolinecolor\":\"white\",\"automargin\":true,\"zerolinewidth\":2},\"yaxis\":{\"gridcolor\":\"white\",\"linecolor\":\"white\",\"ticks\":\"\",\"title\":{\"standoff\":15},\"zerolinecolor\":\"white\",\"automargin\":true,\"zerolinewidth\":2},\"scene\":{\"xaxis\":{\"backgroundcolor\":\"#E5ECF6\",\"gridcolor\":\"white\",\"linecolor\":\"white\",\"showbackground\":true,\"ticks\":\"\",\"zerolinecolor\":\"white\",\"gridwidth\":2},\"yaxis\":{\"backgroundcolor\":\"#E5ECF6\",\"gridcolor\":\"white\",\"linecolor\":\"white\",\"showbackground\":true,\"ticks\":\"\",\"zerolinecolor\":\"white\",\"gridwidth\":2},\"zaxis\":{\"backgroundcolor\":\"#E5ECF6\",\"gridcolor\":\"white\",\"linecolor\":\"white\",\"showbackground\":true,\"ticks\":\"\",\"zerolinecolor\":\"white\",\"gridwidth\":2}},\"shapedefaults\":{\"line\":{\"color\":\"#2a3f5f\"}},\"annotationdefaults\":{\"arrowcolor\":\"#2a3f5f\",\"arrowhead\":0,\"arrowwidth\":1},\"geo\":{\"bgcolor\":\"white\",\"landcolor\":\"#E5ECF6\",\"subunitcolor\":\"white\",\"showland\":true,\"showlakes\":true,\"lakecolor\":\"white\"},\"title\":{\"x\":0.05},\"mapbox\":{\"style\":\"light\"}}},\"xaxis\":{\"anchor\":\"y\",\"domain\":[0.0,1.0],\"title\":{\"text\":\"Fruit\"},\"categoryorder\":\"array\",\"categoryarray\":[\"Apples\",\"Bananas\",\"Oranges\",\"Grapes\"]},\"yaxis\":{\"anchor\":\"x\",\"domain\":[0.0,1.0],\"title\":{\"text\":\"Quantity\"}},\"legend\":{\"title\":{\"text\":\"Fruit\"},\"tracegroupgap\":0},\"title\":{\"text\":\"Fruit Sales Bar Plot\"},\"barmode\":\"relative\"},                        {\"responsive\": true}                    ).then(function(){\n",
              "                            \n",
              "var gd = document.getElementById('7d0ff90a-7fbf-4719-9749-67fb7f400e12');\n",
              "var x = new MutationObserver(function (mutations, observer) {{\n",
              "        var display = window.getComputedStyle(gd).display;\n",
              "        if (!display || display === 'none') {{\n",
              "            console.log([gd, 'removed!']);\n",
              "            Plotly.purge(gd);\n",
              "            observer.disconnect();\n",
              "        }}\n",
              "}});\n",
              "\n",
              "// Listen for the removal of the full notebook cells\n",
              "var notebookContainer = gd.closest('#notebook-container');\n",
              "if (notebookContainer) {{\n",
              "    x.observe(notebookContainer, {childList: true});\n",
              "}}\n",
              "\n",
              "// Listen for the clearing of the current output cell\n",
              "var outputEl = gd.closest('.output');\n",
              "if (outputEl) {{\n",
              "    x.observe(outputEl, {childList: true});\n",
              "}}\n",
              "\n",
              "                        })                };                            </script>        </div>\n",
              "</body>\n",
              "</html>"
            ]
          },
          "metadata": {}
        }
      ]
    },
    {
      "cell_type": "markdown",
      "source": [
        "6.Create a DataFrame and add a new column based on an existing column."
      ],
      "metadata": {
        "id": "nzBgLi9kZ424"
      }
    },
    {
      "cell_type": "code",
      "source": [
        "import pandas as pd\n",
        "\n",
        "# Step 1: Create a DataFrame\n",
        "data = {\n",
        "    'Name': ['Alice', 'Bob', 'Charlie', 'David'],\n",
        "    'Score': [82, 59, 91, 73]\n",
        "}\n",
        "\n",
        "df = pd.DataFrame(data)\n",
        "\n",
        "# Step 2: Add a new column 'Result' based on 'Score'\n",
        "df['Result'] = df['Score'].apply(lambda x: 'Pass' if x >= 60 else 'Fail')\n",
        "\n",
        "# Display the DataFrame\n",
        "print(df)\n"
      ],
      "metadata": {
        "colab": {
          "base_uri": "https://localhost:8080/"
        },
        "id": "zw8U2WWP54d8",
        "outputId": "a6c65982-545b-4aaa-d908-180e7e848e26"
      },
      "execution_count": 11,
      "outputs": [
        {
          "output_type": "stream",
          "name": "stdout",
          "text": [
            "      Name  Score Result\n",
            "0    Alice     82   Pass\n",
            "1      Bob     59   Fail\n",
            "2  Charlie     91   Pass\n",
            "3    David     73   Pass\n"
          ]
        }
      ]
    },
    {
      "cell_type": "markdown",
      "source": [
        "7.Write a program to perform element-wise multiplication of two NumPy arrays."
      ],
      "metadata": {
        "id": "a3uqpnHjZ8T1"
      }
    },
    {
      "cell_type": "code",
      "source": [
        "import numpy as np\n",
        "\n",
        "\n",
        "array1 = np.array([2, 4, 6, 8])\n",
        "array2 = np.array([1, 3, 5, 7])\n",
        "\n",
        "\n",
        "result = array1 * array2\n",
        "\n",
        "print(\"Array 1:\", array1)\n",
        "print(\"Array 2:\", array2)\n",
        "print(\"Element-wise Multiplication:\", result)\n"
      ],
      "metadata": {
        "colab": {
          "base_uri": "https://localhost:8080/"
        },
        "id": "2YjWyZVF5fmp",
        "outputId": "57bcc378-0431-4a3d-d895-cd7aaecadf6e"
      },
      "execution_count": 10,
      "outputs": [
        {
          "output_type": "stream",
          "name": "stdout",
          "text": [
            "Array 1: [2 4 6 8]\n",
            "Array 2: [1 3 5 7]\n",
            "Element-wise Multiplication: [ 2 12 30 56]\n"
          ]
        }
      ]
    },
    {
      "cell_type": "markdown",
      "source": [
        "8.Create a line plot with multiple lines using Matplotlib."
      ],
      "metadata": {
        "id": "QSWPb5DNZ_Up"
      }
    },
    {
      "cell_type": "code",
      "source": [
        "import matplotlib.pyplot as plt\n",
        "\n",
        "# Sample data\n",
        "x = [1, 2, 3, 4, 5]\n",
        "y1 = [10, 15, 20, 25, 30]\n",
        "y2 = [30, 25, 20, 15, 10]\n",
        "y3 = [12, 18, 24, 30, 36]\n",
        "\n",
        "# Create the plot\n",
        "plt.figure(figsize=(8, 5))\n",
        "\n",
        "# Plot multiple lines\n",
        "plt.plot(x, y1, label='Line 1', color='blue', linestyle='-')\n",
        "plt.plot(x, y2, label='Line 2', color='green', linestyle='--')\n",
        "plt.plot(x, y3, label='Line 3', color='red', linestyle=':')\n",
        "\n",
        "# Add title and labels\n",
        "plt.title('Multiple Line Plot Example')\n",
        "plt.xlabel('X-axis')\n",
        "plt.ylabel('Y-axis')\n",
        "\n",
        "# Show legend\n",
        "plt.legend()\n",
        "\n",
        "# Display the plot\n",
        "plt.grid(True)\n",
        "plt.show()\n"
      ],
      "metadata": {
        "colab": {
          "base_uri": "https://localhost:8080/",
          "height": 487
        },
        "id": "Gl-cp_R65V0c",
        "outputId": "737d2da9-88f9-4f49-b9d8-e86d6861543d"
      },
      "execution_count": 8,
      "outputs": [
        {
          "output_type": "display_data",
          "data": {
            "text/plain": [
              "<Figure size 800x500 with 1 Axes>"
            ],
            "image/png": "[encoded data removed]"
          },
          "metadata": {}
        }
      ]
    },
    {
      "cell_type": "markdown",
      "source": [
        "9.Generate a Pandas DataFrame and filter rows where a column value is greater than a threshold."
      ],
      "metadata": {
        "id": "xoJGh9vGaHUE"
      }
    },
    {
      "cell_type": "code",
      "source": [
        "import pandas as pd\n",
        "import numpy as np\n",
        "\n",
        "\n",
        "np.random.seed(0)\n",
        "df = pd.DataFrame({\n",
        "    'Name': ['Alice', 'Bob', 'Charlie', 'David', 'Eva'],\n",
        "    'Score': np.random.randint(40, 100, size=5)\n",
        "})\n",
        "\n",
        "print(\"Original DataFrame:\")\n",
        "print(df)\n",
        "\n",
        "\n",
        "filtered_df = df[df['Score'] > 70]\n",
        "\n",
        "print(\"\\nFiltered DataFrame (Score > 70):\")\n",
        "print(filtered_df)\n"
      ],
      "metadata": {
        "colab": {
          "base_uri": "https://localhost:8080/"
        },
        "id": "I59E61XO4_uC",
        "outputId": "f5a9b6d7-15cc-42f8-fa35-3f48aa005801"
      },
      "execution_count": 6,
      "outputs": [
        {
          "output_type": "stream",
          "name": "stdout",
          "text": [
            "Original DataFrame:\n",
            "      Name  Score\n",
            "0    Alice     84\n",
            "1      Bob     87\n",
            "2  Charlie     93\n",
            "3    David     40\n",
            "4      Eva     43\n",
            "\n",
            "Filtered DataFrame (Score > 70):\n",
            "      Name  Score\n",
            "0    Alice     84\n",
            "1      Bob     87\n",
            "2  Charlie     93\n"
          ]
        }
      ]
    },
    {
      "cell_type": "markdown",
      "source": [
        "10.Create a histogram using Seaborn to visualize a distribution."
      ],
      "metadata": {
        "id": "jpktpgpPaKv-"
      }
    },
    {
      "cell_type": "code",
      "source": [
        "import seaborn as sns\n",
        "import matplotlib.pyplot as plt\n",
        "import numpy as np\n",
        "\n",
        "# Generate sample data\n",
        "np.random.seed(42)\n",
        "data = np.random.normal(loc=50, scale=10, size=1000)\n",
        "\n",
        "# Create histogram\n",
        "sns.histplot(data, bins=30, kde=True, color='skyblue')\n",
        "\n",
        "# Add title and labels\n",
        "plt.title(\"Distribution of Data\")\n",
        "plt.xlabel(\"Value\")\n"
      ],
      "metadata": {
        "colab": {
          "base_uri": "https://localhost:8080/",
          "height": 489
        },
        "id": "-fRgi13m43sD",
        "outputId": "a2cc3e66-fad2-43ad-9b6b-a9c3ef30f7b9"
      },
      "execution_count": 4,
      "outputs": [
        {
          "output_type": "execute_result",
          "data": {
            "text/plain": [
              "Text(0.5, 0, 'Value')"
            ]
          },
          "metadata": {},
          "execution_count": 4
        },
        {
          "output_type": "display_data",
          "data": {
            "text/plain": [
              "<Figure size 640x480 with 1 Axes>"
            ],
            "image/png": "[encoded data removed]"
          },
          "metadata": {}
        }
      ]
    },
    {
      "cell_type": "markdown",
      "source": [
        "11.Perform matrix multiplication using NumPy."
      ],
      "metadata": {
        "id": "GHDXVn1kaOq4"
      }
    },
    {
      "cell_type": "code",
      "source": [
        "import numpy as np\n",
        "\n",
        "# Define two matrices\n",
        "A = np.array([[1, 2], [3, 4]])\n",
        "B = np.array([[5, 6], [7, 8]])\n",
        "\n",
        "# Matrix multiplication\n",
        "result = A @ B\n",
        "\n",
        "print(\"Matrix A:\")\n",
        "print(A)\n",
        "\n",
        "print(\"Matrix B:\")\n",
        "print(B)\n",
        "\n",
        "print(\"Result of A @ B:\")\n",
        "print(result)\n"
      ],
      "metadata": {
        "colab": {
          "base_uri": "https://localhost:8080/"
        },
        "id": "qrNLyx5m4vyy",
        "outputId": "b0b6afaf-2ffb-4cfc-eda6-8fa403a5866f"
      },
      "execution_count": 3,
      "outputs": [
        {
          "output_type": "stream",
          "name": "stdout",
          "text": [
            "Matrix A:\n",
            "[[1 2]\n",
            " [3 4]]\n",
            "Matrix B:\n",
            "[[5 6]\n",
            " [7 8]]\n",
            "Result of A @ B:\n",
            "[[19 22]\n",
            " [43 50]]\n"
          ]
        }
      ]
    },
    {
      "cell_type": "markdown",
      "source": [
        "12.Use Pandas to load a CSV file and display its first 5 rows."
      ],
      "metadata": {
        "id": "hRNCvfeUaS9Q"
      }
    },
    {
      "cell_type": "code",
      "source": [
        "import pandas as pd\n",
        "\n",
        "# Step 1: Load the CSV file\n",
        "df = pd.read_csv('/content/da.csv')\n",
        "\n",
        "# Step 2: Display the first 5 rows\n",
        "print(df.head())"
      ],
      "metadata": {
        "colab": {
          "base_uri": "https://localhost:8080/"
        },
        "id": "18SXPdSL_va-",
        "outputId": "ad4edd8b-7309-4b96-9530-064bb3676e2e"
      },
      "execution_count": 32,
      "outputs": [
        {
          "output_type": "stream",
          "name": "stdout",
          "text": [
            "      Name  Age Department\n",
            "0    Alice   30         HR\n",
            "1      Bob   25    Finance\n",
            "2  Charlie   28         IT\n",
            "3    David   35  Marketing\n",
            "4      Eva   32      Sales\n"
          ]
        }
      ]
    },
    {
      "cell_type": "markdown",
      "source": [
        "13.Create a 3D scatter plot using Plotly."
      ],
      "metadata": {
        "id": "SvKbU26BaWVr"
      }
    },
    {
      "cell_type": "code",
      "execution_count": 1,
      "metadata": {
        "id": "D6rFDtw1XV5m",
        "colab": {
          "base_uri": "https://localhost:8080/",
          "height": 617
        },
        "outputId": "95c93ac9-9853-41dd-eeb5-1390edc62af8"
      },
      "outputs": [
        {
          "output_type": "display_data",
          "data": {
            "text/html": [
              "<html>\n",
              "<head><meta charset=\"utf-8\" /></head>\n",
              "<body>\n",
              "    <div>            <script src=\"https://cdnjs.cloudflare.com/ajax/libs/mathjax/2.7.5/MathJax.js?config=TeX-AMS-MML_SVG\"></script><script type=\"text/javascript\">if (window.MathJax && window.MathJax.Hub && window.MathJax.Hub.Config) {window.MathJax.Hub.Config({SVG: {font: \"STIX-Web\"}});}</script>                <script type=\"text/javascript\">window.PlotlyConfig = {MathJaxConfig: 'local'};</script>\n",
              "        <script charset=\"utf-8\" src=\"https://cdn.plot.ly/plotly-2.35.2.min.js\"></script>                <div id=\"229b1bc3-7997-4867-b144-c32950ceed32\" class=\"plotly-graph-div\" style=\"height:600px; width:100%;\"></div>            <script type=\"text/javascript\">                                    window.PLOTLYENV=window.PLOTLYENV || {};                                    if (document.getElementById(\"229b1bc3-7997-4867-b144-c32950ceed32\")) {                    Plotly.newPlot(                        \"229b1bc3-7997-4867-b144-c32950ceed32\",                        [{\"hovertemplate\":\"Category=A\\u003cbr\\u003eX=%{x}\\u003cbr\\u003eY=%{y}\\u003cbr\\u003eZ=%{z}\\u003cextra\\u003e\\u003c\\u002fextra\\u003e\",\"legendgroup\":\"A\",\"marker\":{\"color\":\"#636efa\",\"symbol\":\"circle\"},\"mode\":\"markers\",\"name\":\"A\",\"scene\":\"scene\",\"showlegend\":true,\"x\":[0.3745401188473625,0.9507143064099162,0.7319939418114051,0.15599452033620265,0.9699098521619943,0.21233911067827616,0.18182496720710062,0.3042422429595377,0.5247564316322378,0.43194501864211576,0.13949386065204183,0.19967378215835974,0.5142344384136116,0.6075448519014384,0.17052412368729153,0.9488855372533332,0.3046137691733707,0.09767211400638387,0.12203823484477883,0.034388521115218396,0.2587799816000169,0.662522284353982,0.31171107608941095,0.18485445552552704],\"y\":[0.9695846277645586,0.7751328233611146,0.9394989415641891,0.9218742350231168,0.2713490317738959,0.3567533266935893,0.28093450968738076,0.14092422497476265,0.8021969807540397,0.07455064367977082,0.1987156815341724,0.7712703466859457,0.07404465173409036,0.8631034258755935,0.6232981268275579,0.06355835028602363,0.7296061783380641,0.6375574713552131,0.1195942459383017,0.7607850486168974,0.770967179954561,0.49379559636439074,0.5227328293819941,0.10789142699330445],\"z\":[0.03142918568673425,0.6364104112637804,0.3143559810763267,0.24929222914887494,0.16122128725400442,0.808120379564417,0.6334037565104235,0.8036720768991145,0.18657005888603584,0.8925589984899778,0.8960912999234932,0.8180147659224931,0.8607305832563434,0.417411003148779,0.22210781047073025,0.33761517140362796,0.5187906217433661,0.7030189588951778,0.9624472949421112,0.49724850589238545,0.2848404943774676,0.036886947354532795,0.6095643339798968,0.27864646423661144],\"type\":\"scatter3d\"},{\"hovertemplate\":\"Category=B\\u003cbr\\u003eX=%{x}\\u003cbr\\u003eY=%{y}\\u003cbr\\u003eZ=%{z}\\u003cextra\\u003e\\u003c\\u002fextra\\u003e\",\"legendgroup\":\"B\",\"marker\":{\"color\":\"#EF553B\",\"symbol\":\"circle\"},\"mode\":\"markers\",\"name\":\"B\",\"scene\":\"scene\",\"showlegend\":true,\"x\":[0.5986584841970366,0.15601864044243652,0.05808361216819946,0.8661761457749352,0.6011150117432088,0.7080725777960455,0.020584494295802447,0.8324426408004217,0.18340450985343382,0.2912291401980419,0.6118528947223795,0.29214464853521815,0.3663618432936917,0.45606998421703593,0.7851759613930136,0.5924145688620425,0.046450412719997725,0.06505159298527952,0.9656320330745594,0.8083973481164611,0.6842330265121569,0.4401524937396013,0.4951769101112702,0.9093204020787821,0.5200680211778108,0.5467102793432796],\"y\":[0.8948273504276488,0.5978999788110851,0.0884925020519195,0.1959828624191452,0.045227288910538066,0.32533033076326434,0.388677289689482,0.8287375091519293,0.5426960831582485,0.9868869366005173,0.7722447692966574,0.005522117123602399,0.8154614284548342,0.7068573438476171,0.7290071680409873,0.3584657285442726,0.11586905952512971,0.3308980248526492,0.3109823217156622,0.32518332202674705,0.8872127425763265,0.4722149251619493,0.713244787222995,0.5612771975694962,0.42754101835854963,0.02541912674409519],\"z\":[0.5085706911647028,0.907566473926093,0.41038292303562973,0.7555511385430487,0.22879816549162246,0.07697990982879299,0.289751452913768,0.9296976523425731,0.8714605901877177,0.5393422419156507,0.8074401551640625,0.3180034749718639,0.11005192452767676,0.22793516254194168,0.4271077886262563,0.006952130531190703,0.5107473025775657,0.1198653673336828,0.9429097039125192,0.32320293202075523,0.363629602379294,0.9717820827209607,0.25178229582536416,0.30087830981676966,0.5026790232288615,0.05147875124998935],\"type\":\"scatter3d\"}],                        {\"template\":{\"data\":{\"histogram2dcontour\":[{\"type\":\"histogram2dcontour\",\"colorbar\":{\"outlinewidth\":0,\"ticks\":\"\"},\"colorscale\":[[0.0,\"#0d0887\"],[0.1111111111111111,\"#46039f\"],[0.2222222222222222,\"#7201a8\"],[0.3333333333333333,\"#9c179e\"],[0.4444444444444444,\"#bd3786\"],[0.5555555555555556,\"#d8576b\"],[0.6666666666666666,\"#ed7953\"],[0.7777777777777778,\"#fb9f3a\"],[0.8888888888888888,\"#fdca26\"],[1.0,\"#f0f921\"]]}],\"choropleth\":[{\"type\":\"choropleth\",\"colorbar\":{\"outlinewidth\":0,\"ticks\":\"\"}}],\"histogram2d\":[{\"type\":\"histogram2d\",\"colorbar\":{\"outlinewidth\":0,\"ticks\":\"\"},\"colorscale\":[[0.0,\"#0d0887\"],[0.1111111111111111,\"#46039f\"],[0.2222222222222222,\"#7201a8\"],[0.3333333333333333,\"#9c179e\"],[0.4444444444444444,\"#bd3786\"],[0.5555555555555556,\"#d8576b\"],[0.6666666666666666,\"#ed7953\"],[0.7777777777777778,\"#fb9f3a\"],[0.8888888888888888,\"#fdca26\"],[1.0,\"#f0f921\"]]}],\"heatmap\":[{\"type\":\"heatmap\",\"colorbar\":{\"outlinewidth\":0,\"ticks\":\"\"},\"colorscale\":[[0.0,\"#0d0887\"],[0.1111111111111111,\"#46039f\"],[0.2222222222222222,\"#7201a8\"],[0.3333333333333333,\"#9c179e\"],[0.4444444444444444,\"#bd3786\"],[0.5555555555555556,\"#d8576b\"],[0.6666666666666666,\"#ed7953\"],[0.7777777777777778,\"#fb9f3a\"],[0.8888888888888888,\"#fdca26\"],[1.0,\"#f0f921\"]]}],\"heatmapgl\":[{\"type\":\"heatmapgl\",\"colorbar\":{\"outlinewidth\":0,\"ticks\":\"\"},\"colorscale\":[[0.0,\"#0d0887\"],[0.1111111111111111,\"#46039f\"],[0.2222222222222222,\"#7201a8\"],[0.3333333333333333,\"#9c179e\"],[0.4444444444444444,\"#bd3786\"],[0.5555555555555556,\"#d8576b\"],[0.6666666666666666,\"#ed7953\"],[0.7777777777777778,\"#fb9f3a\"],[0.8888888888888888,\"#fdca26\"],[1.0,\"#f0f921\"]]}],\"contourcarpet\":[{\"type\":\"contourcarpet\",\"colorbar\":{\"outlinewidth\":0,\"ticks\":\"\"}}],\"contour\":[{\"type\":\"contour\",\"colorbar\":{\"outlinewidth\":0,\"ticks\":\"\"},\"colorscale\":[[0.0,\"#0d0887\"],[0.1111111111111111,\"#46039f\"],[0.2222222222222222,\"#7201a8\"],[0.3333333333333333,\"#9c179e\"],[0.4444444444444444,\"#bd3786\"],[0.5555555555555556,\"#d8576b\"],[0.6666666666666666,\"#ed7953\"],[0.7777777777777778,\"#fb9f3a\"],[0.8888888888888888,\"#fdca26\"],[1.0,\"#f0f921\"]]}],\"surface\":[{\"type\":\"surface\",\"colorbar\":{\"outlinewidth\":0,\"ticks\":\"\"},\"colorscale\":[[0.0,\"#0d0887\"],[0.1111111111111111,\"#46039f\"],[0.2222222222222222,\"#7201a8\"],[0.3333333333333333,\"#9c179e\"],[0.4444444444444444,\"#bd3786\"],[0.5555555555555556,\"#d8576b\"],[0.6666666666666666,\"#ed7953\"],[0.7777777777777778,\"#fb9f3a\"],[0.8888888888888888,\"#fdca26\"],[1.0,\"#f0f921\"]]}],\"mesh3d\":[{\"type\":\"mesh3d\",\"colorbar\":{\"outlinewidth\":0,\"ticks\":\"\"}}],\"scatter\":[{\"fillpattern\":{\"fillmode\":\"overlay\",\"size\":10,\"solidity\":0.2},\"type\":\"scatter\"}],\"parcoords\":[{\"type\":\"parcoords\",\"line\":{\"colorbar\":{\"outlinewidth\":0,\"ticks\":\"\"}}}],\"scatterpolargl\":[{\"type\":\"scatterpolargl\",\"marker\":{\"colorbar\":{\"outlinewidth\":0,\"ticks\":\"\"}}}],\"bar\":[{\"error_x\":{\"color\":\"#2a3f5f\"},\"error_y\":{\"color\":\"#2a3f5f\"},\"marker\":{\"line\":{\"color\":\"#E5ECF6\",\"width\":0.5},\"pattern\":{\"fillmode\":\"overlay\",\"size\":10,\"solidity\":0.2}},\"type\":\"bar\"}],\"scattergeo\":[{\"type\":\"scattergeo\",\"marker\":{\"colorbar\":{\"outlinewidth\":0,\"ticks\":\"\"}}}],\"scatterpolar\":[{\"type\":\"scatterpolar\",\"marker\":{\"colorbar\":{\"outlinewidth\":0,\"ticks\":\"\"}}}],\"histogram\":[{\"marker\":{\"pattern\":{\"fillmode\":\"overlay\",\"size\":10,\"solidity\":0.2}},\"type\":\"histogram\"}],\"scattergl\":[{\"type\":\"scattergl\",\"marker\":{\"colorbar\":{\"outlinewidth\":0,\"ticks\":\"\"}}}],\"scatter3d\":[{\"type\":\"scatter3d\",\"line\":{\"colorbar\":{\"outlinewidth\":0,\"ticks\":\"\"}},\"marker\":{\"colorbar\":{\"outlinewidth\":0,\"ticks\":\"\"}}}],\"scattermapbox\":[{\"type\":\"scattermapbox\",\"marker\":{\"colorbar\":{\"outlinewidth\":0,\"ticks\":\"\"}}}],\"scatterternary\":[{\"type\":\"scatterternary\",\"marker\":{\"colorbar\":{\"outlinewidth\":0,\"ticks\":\"\"}}}],\"scattercarpet\":[{\"type\":\"scattercarpet\",\"marker\":{\"colorbar\":{\"outlinewidth\":0,\"ticks\":\"\"}}}],\"carpet\":[{\"aaxis\":{\"endlinecolor\":\"#2a3f5f\",\"gridcolor\":\"white\",\"linecolor\":\"white\",\"minorgridcolor\":\"white\",\"startlinecolor\":\"#2a3f5f\"},\"baxis\":{\"endlinecolor\":\"#2a3f5f\",\"gridcolor\":\"white\",\"linecolor\":\"white\",\"minorgridcolor\":\"white\",\"startlinecolor\":\"#2a3f5f\"},\"type\":\"carpet\"}],\"table\":[{\"cells\":{\"fill\":{\"color\":\"#EBF0F8\"},\"line\":{\"color\":\"white\"}},\"header\":{\"fill\":{\"color\":\"#C8D4E3\"},\"line\":{\"color\":\"white\"}},\"type\":\"table\"}],\"barpolar\":[{\"marker\":{\"line\":{\"color\":\"#E5ECF6\",\"width\":0.5},\"pattern\":{\"fillmode\":\"overlay\",\"size\":10,\"solidity\":0.2}},\"type\":\"barpolar\"}],\"pie\":[{\"automargin\":true,\"type\":\"pie\"}]},\"layout\":{\"autotypenumbers\":\"strict\",\"colorway\":[\"#636efa\",\"#EF553B\",\"#00cc96\",\"#ab63fa\",\"#FFA15A\",\"#19d3f3\",\"#FF6692\",\"#B6E880\",\"#FF97FF\",\"#FECB52\"],\"font\":{\"color\":\"#2a3f5f\"},\"hovermode\":\"closest\",\"hoverlabel\":{\"align\":\"left\"},\"paper_bgcolor\":\"white\",\"plot_bgcolor\":\"#E5ECF6\",\"polar\":{\"bgcolor\":\"#E5ECF6\",\"angularaxis\":{\"gridcolor\":\"white\",\"linecolor\":\"white\",\"ticks\":\"\"},\"radialaxis\":{\"gridcolor\":\"white\",\"linecolor\":\"white\",\"ticks\":\"\"}},\"ternary\":{\"bgcolor\":\"#E5ECF6\",\"aaxis\":{\"gridcolor\":\"white\",\"linecolor\":\"white\",\"ticks\":\"\"},\"baxis\":{\"gridcolor\":\"white\",\"linecolor\":\"white\",\"ticks\":\"\"},\"caxis\":{\"gridcolor\":\"white\",\"linecolor\":\"white\",\"ticks\":\"\"}},\"coloraxis\":{\"colorbar\":{\"outlinewidth\":0,\"ticks\":\"\"}},\"colorscale\":{\"sequential\":[[0.0,\"#0d0887\"],[0.1111111111111111,\"#46039f\"],[0.2222222222222222,\"#7201a8\"],[0.3333333333333333,\"#9c179e\"],[0.4444444444444444,\"#bd3786\"],[0.5555555555555556,\"#d8576b\"],[0.6666666666666666,\"#ed7953\"],[0.7777777777777778,\"#fb9f3a\"],[0.8888888888888888,\"#fdca26\"],[1.0,\"#f0f921\"]],\"sequentialminus\":[[0.0,\"#0d0887\"],[0.1111111111111111,\"#46039f\"],[0.2222222222222222,\"#7201a8\"],[0.3333333333333333,\"#9c179e\"],[0.4444444444444444,\"#bd3786\"],[0.5555555555555556,\"#d8576b\"],[0.6666666666666666,\"#ed7953\"],[0.7777777777777778,\"#fb9f3a\"],[0.8888888888888888,\"#fdca26\"],[1.0,\"#f0f921\"]],\"diverging\":[[0,\"#8e0152\"],[0.1,\"#c51b7d\"],[0.2,\"#de77ae\"],[0.3,\"#f1b6da\"],[0.4,\"#fde0ef\"],[0.5,\"#f7f7f7\"],[0.6,\"#e6f5d0\"],[0.7,\"#b8e186\"],[0.8,\"#7fbc41\"],[0.9,\"#4d9221\"],[1,\"#276419\"]]},\"xaxis\":{\"gridcolor\":\"white\",\"linecolor\":\"white\",\"ticks\":\"\",\"title\":{\"standoff\":15},\"zerolinecolor\":\"white\",\"automargin\":true,\"zerolinewidth\":2},\"yaxis\":{\"gridcolor\":\"white\",\"linecolor\":\"white\",\"ticks\":\"\",\"title\":{\"standoff\":15},\"zerolinecolor\":\"white\",\"automargin\":true,\"zerolinewidth\":2},\"scene\":{\"xaxis\":{\"backgroundcolor\":\"#E5ECF6\",\"gridcolor\":\"white\",\"linecolor\":\"white\",\"showbackground\":true,\"ticks\":\"\",\"zerolinecolor\":\"white\",\"gridwidth\":2},\"yaxis\":{\"backgroundcolor\":\"#E5ECF6\",\"gridcolor\":\"white\",\"linecolor\":\"white\",\"showbackground\":true,\"ticks\":\"\",\"zerolinecolor\":\"white\",\"gridwidth\":2},\"zaxis\":{\"backgroundcolor\":\"#E5ECF6\",\"gridcolor\":\"white\",\"linecolor\":\"white\",\"showbackground\":true,\"ticks\":\"\",\"zerolinecolor\":\"white\",\"gridwidth\":2}},\"shapedefaults\":{\"line\":{\"color\":\"#2a3f5f\"}},\"annotationdefaults\":{\"arrowcolor\":\"#2a3f5f\",\"arrowhead\":0,\"arrowwidth\":1},\"geo\":{\"bgcolor\":\"white\",\"landcolor\":\"#E5ECF6\",\"subunitcolor\":\"white\",\"showland\":true,\"showlakes\":true,\"lakecolor\":\"white\"},\"title\":{\"x\":0.05},\"mapbox\":{\"style\":\"light\"}}},\"scene\":{\"domain\":{\"x\":[0.0,1.0],\"y\":[0.0,1.0]},\"xaxis\":{\"title\":{\"text\":\"X\"}},\"yaxis\":{\"title\":{\"text\":\"Y\"}},\"zaxis\":{\"title\":{\"text\":\"Z\"}}},\"legend\":{\"title\":{\"text\":\"Category\"},\"tracegroupgap\":0},\"title\":{\"text\":\"3D Scatter Plot Example\"},\"height\":600},                        {\"responsive\": true}                    ).then(function(){\n",
              "                            \n",
              "var gd = document.getElementById('229b1bc3-7997-4867-b144-c32950ceed32');\n",
              "var x = new MutationObserver(function (mutations, observer) {{\n",
              "        var display = window.getComputedStyle(gd).display;\n",
              "        if (!display || display === 'none') {{\n",
              "            console.log([gd, 'removed!']);\n",
              "            Plotly.purge(gd);\n",
              "            observer.disconnect();\n",
              "        }}\n",
              "}});\n",
              "\n",
              "// Listen for the removal of the full notebook cells\n",
              "var notebookContainer = gd.closest('#notebook-container');\n",
              "if (notebookContainer) {{\n",
              "    x.observe(notebookContainer, {childList: true});\n",
              "}}\n",
              "\n",
              "// Listen for the clearing of the current output cell\n",
              "var outputEl = gd.closest('.output');\n",
              "if (outputEl) {{\n",
              "    x.observe(outputEl, {childList: true});\n",
              "}}\n",
              "\n",
              "                        })                };                            </script>        </div>\n",
              "</body>\n",
              "</html>"
            ]
          },
          "metadata": {}
        }
      ],
      "source": [
        "import plotly.express as px\n",
        "import pandas as pd\n",
        "import numpy as np\n",
        "\n",
        "# Sample data\n",
        "np.random.seed(42)\n",
        "df = pd.DataFrame({\n",
        "    'X': np.random.rand(50),\n",
        "    'Y': np.random.rand(50),\n",
        "    'Z': np.random.rand(50),\n",
        "    'Category': np.random.choice(['A', 'B'], size=50)\n",
        "})\n",
        "\n",
        "# Create 3D scatter plot\n",
        "fig = px.scatter_3d(df,\n",
        "                    x='X',\n",
        "                    y='Y',\n",
        "                    z='Z',\n",
        "                    color='Category',\n",
        "                    title='3D Scatter Plot Example',\n",
        "                    height=600)\n",
        "\n",
        "fig.show()\n"
      ]
    }
  ]
}